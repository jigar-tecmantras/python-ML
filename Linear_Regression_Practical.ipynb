{
 "cells": [
  {
   "cell_type": "markdown",
   "id": "1c6d6b5d",
   "metadata": {},
   "source": [
    "###  Linear Regression Practical Implementation"
   ]
  },
  {
   "cell_type": "code",
   "execution_count": null,
   "id": "26b1f752",
   "metadata": {},
   "outputs": [
    {
     "name": "stdout",
     "output_type": "stream",
     "text": [
      "Predicted Salary: 31249.999999999996\n"
     ]
    }
   ],
   "source": [
    "import pandas as pd\n",
    "from sklearn.linear_model import LinearRegression\n",
    "import matplotlib.pyplot as plt\n",
    "\n",
    "# Example Dataset\n",
    "data = pd.DataFrame({\n",
    "    'Experience': [1, 2, 3, 4, 5],\n",
    "    'Salary': [30000, 35000, 40000, 60000, 70000]\n",
    "})\n",
    "\n",
    "X = data[['Experience']]  \n",
    "y = data['Salary']      \n",
    "\n",
    "# Model\n",
    "model = LinearRegression()\n",
    "model.fit(X, y)\n",
    "# Prediction\n",
    "predicted_salary = model.predict(pd.DataFrame([[1.5]], columns=['Experience']))\n",
    "print(\"Predicted Salary:\", predicted_salary[0])\n",
    "\n",
    "# Plot\n",
    "plt.scatter(X, y, color='blue')\n",
    "plt.plot(X, model.predict(X), color='red')\n",
    "plt.xlabel('Years of Experience')\n",
    "plt.ylabel('Salary')\n",
    "plt.title('Linear Regression Line')\n",
    "plt.show()"
   ]
  },
  {
   "cell_type": "markdown",
   "id": "c1254c2e",
   "metadata": {},
   "source": [
    "### Multi Linear Regression"
   ]
  },
  {
   "cell_type": "code",
   "execution_count": null,
   "id": "fc59815f",
   "metadata": {},
   "outputs": [
    {
     "name": "stdout",
     "output_type": "stream",
     "text": [
      "Predicted Salary: 37499.999999999985\n"
     ]
    }
   ],
   "source": [
    "import pandas as pd\n",
    "from sklearn.linear_model import LinearRegression\n",
    "import matplotlib.pyplot as plt\n",
    "\n",
    "# Example Dataset with multiple features\n",
    "data = pd.DataFrame({\n",
    "    'Experience': [1, 2, 3, 4, 5],\n",
    "    'Age': [22, 25, 28, 30, 35],\n",
    "    'EducationLevel': [1, 2, 2, 3, 3],  # 1=School, 2=Graduate, 3=Postgraduate\n",
    "    'Salary': [30000, 35000, 40000, 60000, 70000]\n",
    "})\n",
    "\n",
    "# Multiple input features\n",
    "X = data[['Experience', 'Age', 'EducationLevel']]\n",
    "y = data['Salary']\n",
    "\n",
    "model = LinearRegression()\n",
    "model.fit(X, y)\n",
    "\n",
    "# Predicting for a new candidate\n",
    "# Example: 2 years Experience, 26 Age, Graduate (Education Level 2)\n",
    "test_input = pd.DataFrame([[2, 26, 2]], columns=['Experience', 'Age', 'EducationLevel'])\n",
    "predicted_salary = model.predict(test_input)\n",
    "print(\"Predicted Salary:\", predicted_salary[0])"
   ]
  },
  {
   "cell_type": "code",
   "execution_count": null,
   "id": "7e0b31d4",
   "metadata": {},
   "outputs": [],
   "source": []
  }
 ],
 "metadata": {
  "kernelspec": {
   "display_name": "Python [conda env:base] *",
   "language": "python",
   "name": "conda-base-py"
  }
 },
 "nbformat": 4,
 "nbformat_minor": 5
}
